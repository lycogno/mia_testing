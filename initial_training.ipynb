{
  "cells": [
    {
      "cell_type": "code",
      "execution_count": 1,
      "metadata": {
        "id": "6lrKwKTorKdc"
      },
      "outputs": [],
      "source": [
        "import torch\n",
        "import torchvision\n",
        "import torchvision.transforms as transforms\n",
        "import torch.nn as nn\n",
        "import torch.optim as optim\n",
        "import torchvision.models as models\n"
      ]
    },
    {
      "cell_type": "code",
      "execution_count": 2,
      "metadata": {
        "id": "k2AeHp_PrKde",
        "outputId": "150a2e4e-f588-4f6f-c905-0edd454f438d",
        "colab": {
          "base_uri": "https://localhost:8080/"
        }
      },
      "outputs": [
        {
          "output_type": "stream",
          "name": "stdout",
          "text": [
            "Files already downloaded and verified\n"
          ]
        }
      ],
      "source": [
        "transform = transforms.Compose([\n",
        "    transforms.ToTensor(),\n",
        "    transforms.Normalize((0.4914, 0.4822, 0.4465), (0.2023, 0.1994, 0.2010)),  # Normalize the images to range [-1, 1]\n",
        "    ])\n",
        "train_transform = transforms.Compose([\n",
        "    transform,\n",
        "    transforms.RandomCrop(32, padding=4),\n",
        "    transforms.RandomHorizontalFlip(),\n",
        "])\n",
        "\n",
        "trainset = torchvision.datasets.CIFAR10(root='./data', train=True, download=True, transform=train_transform)\n",
        "trainloader = torch.utils.data.DataLoader(trainset, batch_size=128, shuffle=True, num_workers=2)\n"
      ]
    },
    {
      "cell_type": "code",
      "execution_count": 3,
      "metadata": {
        "id": "kHxt7xUFrKdf"
      },
      "outputs": [],
      "source": [
        "device = torch.device(\"cuda\" if torch.cuda.is_available() else \"cpu\")"
      ]
    },
    {
      "cell_type": "code",
      "execution_count": 4,
      "metadata": {
        "id": "2QrXJ6qNrKdg"
      },
      "outputs": [],
      "source": [
        "resnet_model = models.resnet18(weights=None)\n",
        "resnet_model.to(device)\n",
        "\n",
        "criterion = nn.CrossEntropyLoss()\n",
        "optimizer = optim.SGD(resnet_model.parameters(), lr=0.1, momentum=0.9, weight_decay=0.0005)\n",
        "scheduler = torch.optim.lr_scheduler.CosineAnnealingLR(optimizer, T_max=20)"
      ]
    },
    {
      "cell_type": "code",
      "execution_count": 5,
      "metadata": {
        "id": "T79ji9c4rKdh",
        "outputId": "5d8c3513-6555-493b-e3cc-ed0b6707e840",
        "colab": {
          "base_uri": "https://localhost:8080/"
        }
      },
      "outputs": [
        {
          "output_type": "stream",
          "name": "stdout",
          "text": [
            "[Epoch 1, Batch 100] Loss: 1.461\n",
            "[Epoch 1, Batch 200] Loss: 0.947\n",
            "[Epoch 1, Batch 300] Loss: 0.896\n",
            "[Epoch 2, Batch 100] Loss: 0.753\n",
            "[Epoch 2, Batch 200] Loss: 0.714\n",
            "[Epoch 2, Batch 300] Loss: 0.699\n",
            "[Epoch 3, Batch 100] Loss: 0.631\n",
            "[Epoch 3, Batch 200] Loss: 0.615\n",
            "[Epoch 3, Batch 300] Loss: 0.613\n",
            "[Epoch 4, Batch 100] Loss: 0.568\n",
            "[Epoch 4, Batch 200] Loss: 0.542\n",
            "[Epoch 4, Batch 300] Loss: 0.537\n",
            "[Epoch 5, Batch 100] Loss: 0.502\n",
            "[Epoch 5, Batch 200] Loss: 0.503\n",
            "[Epoch 5, Batch 300] Loss: 0.498\n",
            "[Epoch 6, Batch 100] Loss: 0.463\n",
            "[Epoch 6, Batch 200] Loss: 0.470\n",
            "[Epoch 6, Batch 300] Loss: 0.461\n",
            "[Epoch 7, Batch 100] Loss: 0.435\n",
            "[Epoch 7, Batch 200] Loss: 0.444\n",
            "[Epoch 7, Batch 300] Loss: 0.436\n",
            "[Epoch 8, Batch 100] Loss: 0.410\n",
            "[Epoch 8, Batch 200] Loss: 0.402\n",
            "[Epoch 8, Batch 300] Loss: 0.420\n",
            "[Epoch 9, Batch 100] Loss: 0.388\n",
            "[Epoch 9, Batch 200] Loss: 0.381\n",
            "[Epoch 9, Batch 300] Loss: 0.389\n",
            "[Epoch 10, Batch 100] Loss: 0.361\n",
            "[Epoch 10, Batch 200] Loss: 0.364\n",
            "[Epoch 10, Batch 300] Loss: 0.370\n",
            "[Epoch 11, Batch 100] Loss: 0.344\n",
            "[Epoch 11, Batch 200] Loss: 0.344\n",
            "[Epoch 11, Batch 300] Loss: 0.342\n",
            "[Epoch 12, Batch 100] Loss: 0.321\n",
            "[Epoch 12, Batch 200] Loss: 0.322\n",
            "[Epoch 12, Batch 300] Loss: 0.331\n",
            "[Epoch 13, Batch 100] Loss: 0.300\n",
            "[Epoch 13, Batch 200] Loss: 0.305\n",
            "[Epoch 13, Batch 300] Loss: 0.304\n",
            "[Epoch 14, Batch 100] Loss: 0.275\n",
            "[Epoch 14, Batch 200] Loss: 0.278\n",
            "[Epoch 14, Batch 300] Loss: 0.280\n",
            "[Epoch 15, Batch 100] Loss: 0.249\n",
            "[Epoch 15, Batch 200] Loss: 0.253\n",
            "[Epoch 15, Batch 300] Loss: 0.264\n",
            "[Epoch 16, Batch 100] Loss: 0.245\n",
            "[Epoch 16, Batch 200] Loss: 0.233\n",
            "[Epoch 16, Batch 300] Loss: 0.236\n",
            "[Epoch 17, Batch 100] Loss: 0.217\n",
            "[Epoch 17, Batch 200] Loss: 0.215\n",
            "[Epoch 17, Batch 300] Loss: 0.217\n",
            "[Epoch 18, Batch 100] Loss: 0.200\n",
            "[Epoch 18, Batch 200] Loss: 0.198\n",
            "[Epoch 18, Batch 300] Loss: 0.192\n",
            "[Epoch 19, Batch 100] Loss: 0.181\n",
            "[Epoch 19, Batch 200] Loss: 0.179\n",
            "[Epoch 19, Batch 300] Loss: 0.176\n",
            "[Epoch 20, Batch 100] Loss: 0.173\n",
            "[Epoch 20, Batch 200] Loss: 0.165\n",
            "[Epoch 20, Batch 300] Loss: 0.169\n",
            "Finished Training ResNet18 on CIFAR-10\n"
          ]
        }
      ],
      "source": [
        "# Training loop\n",
        "num_epochs = 20\n",
        "for epoch in range(num_epochs):\n",
        "    running_loss = 0.0\n",
        "    for i, data in enumerate(trainloader, 0):\n",
        "        inputs, labels = data[0].to(device), data[1].to(device)\n",
        "\n",
        "        optimizer.zero_grad()\n",
        "\n",
        "        outputs = resnet_model(inputs)\n",
        "        loss = criterion(outputs, labels)\n",
        "        loss.backward()\n",
        "        optimizer.step()\n",
        "\n",
        "        running_loss += loss.item()\n",
        "        if i % 100 == 99:    # Print every 200 mini-batches\n",
        "            print(f\"[Epoch {epoch + 1}, Batch {i + 1}] Loss: {running_loss / 200:.3f}\")\n",
        "            running_loss = 0.0\n",
        "    scheduler.step()\n",
        "\n",
        "print(\"Finished Training ResNet18 on CIFAR-10\")"
      ]
    },
    {
      "cell_type": "code",
      "source": [
        "testset = torchvision.datasets.CIFAR10(root='./data', train=False, download=True, transform=transform)\n",
        "testloader = torch.utils.data.DataLoader(testset, batch_size=100, shuffle=True, num_workers=2)"
      ],
      "metadata": {
        "id": "51U0z9-JsF6Q",
        "outputId": "1b5822d4-d65b-41c7-fb0f-88edb0e56076",
        "colab": {
          "base_uri": "https://localhost:8080/"
        }
      },
      "execution_count": 6,
      "outputs": [
        {
          "output_type": "stream",
          "name": "stdout",
          "text": [
            "Files already downloaded and verified\n"
          ]
        }
      ]
    },
    {
      "cell_type": "code",
      "source": [
        "correct = 0\n",
        "total = 0\n",
        "resnet_model.eval()\n",
        "with torch.no_grad():\n",
        "  for i, data in enumerate(testloader, 0):\n",
        "          inputs, labels = data[0].to(device), data[1].to(device)\n",
        "          outputs = resnet_model(inputs)\n",
        "          if(i==0):\n",
        "            print(f\"Output dimensions: {outputs.size()}\\nLabel dimensions: {labels.size()}\")\n",
        "          outputs = torch.argmax(outputs, dim=1)\n",
        "          correct += torch.sum(torch.eq(outputs, labels))\n",
        "          total += 100\n",
        "print(f\"Test accuracy: {correct/total*100:.2f}%\")\n"
      ],
      "metadata": {
        "id": "3j2tfr1SsfKY",
        "outputId": "f707fc04-6aba-465e-9596-3201547927f2",
        "colab": {
          "base_uri": "https://localhost:8080/"
        }
      },
      "execution_count": 7,
      "outputs": [
        {
          "output_type": "stream",
          "name": "stdout",
          "text": [
            "Output dimensions: torch.Size([100, 1000])\n",
            "Label dimensions: torch.Size([100])\n",
            "Test accuracy: 83.96%\n"
          ]
        }
      ]
    }
  ],
  "metadata": {
    "kernelspec": {
      "display_name": "Python 3",
      "name": "python3"
    },
    "language_info": {
      "codemirror_mode": {
        "name": "ipython",
        "version": 3
      },
      "file_extension": ".py",
      "mimetype": "text/x-python",
      "name": "python",
      "nbconvert_exporter": "python",
      "pygments_lexer": "ipython3",
      "version": "3.11.2"
    },
    "orig_nbformat": 4,
    "colab": {
      "provenance": [],
      "gpuType": "T4"
    },
    "accelerator": "GPU"
  },
  "nbformat": 4,
  "nbformat_minor": 0
}