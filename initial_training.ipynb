{
  "cells": [
    {
      "cell_type": "code",
      "execution_count": 1,
      "metadata": {
        "id": "6lrKwKTorKdc"
      },
      "outputs": [],
      "source": [
        "import torch\n",
        "import torchvision\n",
        "import torchvision.transforms as transforms\n",
        "import torch.nn as nn\n",
        "import torch.optim as optim\n",
        "import torchvision.models as models\n"
      ]
    },
    {
      "cell_type": "code",
      "execution_count": 2,
      "metadata": {
        "id": "k2AeHp_PrKde",
        "outputId": "c9d0d9ed-3631-4daa-d727-e7cc5c07e5f5",
        "colab": {
          "base_uri": "https://localhost:8080/"
        }
      },
      "outputs": [
        {
          "output_type": "stream",
          "name": "stdout",
          "text": [
            "Downloading https://www.cs.toronto.edu/~kriz/cifar-10-python.tar.gz to ./data/cifar-10-python.tar.gz\n"
          ]
        },
        {
          "output_type": "stream",
          "name": "stderr",
          "text": [
            "100%|██████████| 170498071/170498071 [00:13<00:00, 12904495.36it/s]\n"
          ]
        },
        {
          "output_type": "stream",
          "name": "stdout",
          "text": [
            "Extracting ./data/cifar-10-python.tar.gz to ./data\n"
          ]
        }
      ],
      "source": [
        "transform = transforms.Compose([\n",
        "    transforms.ToTensor(),\n",
        "    transforms.Normalize((0.5, 0.5, 0.5), (0.5, 0.5, 0.5))  # Normalize the images to range [-1, 1]\n",
        "])\n",
        "\n",
        "trainset = torchvision.datasets.CIFAR10(root='./data', train=True, download=True, transform=transform)\n",
        "trainloader = torch.utils.data.DataLoader(trainset, batch_size=64, shuffle=True, num_workers=2)\n"
      ]
    },
    {
      "cell_type": "code",
      "execution_count": 3,
      "metadata": {
        "id": "kHxt7xUFrKdf"
      },
      "outputs": [],
      "source": [
        "device = torch.device(\"cuda\" if torch.cuda.is_available() else \"cpu\")"
      ]
    },
    {
      "cell_type": "code",
      "execution_count": 4,
      "metadata": {
        "id": "2QrXJ6qNrKdg",
        "outputId": "0c085ff7-57ee-4214-9d97-2a704e4eabe6",
        "colab": {
          "base_uri": "https://localhost:8080/"
        }
      },
      "outputs": [
        {
          "output_type": "stream",
          "name": "stderr",
          "text": [
            "/usr/local/lib/python3.10/dist-packages/torchvision/models/_utils.py:208: UserWarning: The parameter 'pretrained' is deprecated since 0.13 and may be removed in the future, please use 'weights' instead.\n",
            "  warnings.warn(\n",
            "/usr/local/lib/python3.10/dist-packages/torchvision/models/_utils.py:223: UserWarning: Arguments other than a weight enum or `None` for 'weights' are deprecated since 0.13 and may be removed in the future. The current behavior is equivalent to passing `weights=None`.\n",
            "  warnings.warn(msg)\n"
          ]
        }
      ],
      "source": [
        "resnet_model = models.resnet18(pretrained=False)\n",
        "resnet_model.to(device)\n",
        "\n",
        "criterion = nn.CrossEntropyLoss()\n",
        "optimizer = optim.SGD(resnet_model.parameters(), lr=0.001, momentum=0.9)"
      ]
    },
    {
      "cell_type": "code",
      "execution_count": 5,
      "metadata": {
        "id": "T79ji9c4rKdh",
        "outputId": "88055c96-70ce-460c-e309-47a80e66f855",
        "colab": {
          "base_uri": "https://localhost:8080/"
        }
      },
      "outputs": [
        {
          "output_type": "stream",
          "name": "stdout",
          "text": [
            "[Epoch 1, Batch 200] Loss: 2.263\n",
            "[Epoch 1, Batch 400] Loss: 1.596\n",
            "[Epoch 1, Batch 600] Loss: 1.479\n",
            "[Epoch 2, Batch 200] Loss: 1.280\n",
            "[Epoch 2, Batch 400] Loss: 1.251\n",
            "[Epoch 2, Batch 600] Loss: 1.219\n",
            "[Epoch 3, Batch 200] Loss: 1.051\n",
            "[Epoch 3, Batch 400] Loss: 1.022\n",
            "[Epoch 3, Batch 600] Loss: 1.036\n",
            "[Epoch 4, Batch 200] Loss: 0.868\n",
            "[Epoch 4, Batch 400] Loss: 0.857\n",
            "[Epoch 4, Batch 600] Loss: 0.884\n",
            "[Epoch 5, Batch 200] Loss: 0.704\n",
            "[Epoch 5, Batch 400] Loss: 0.731\n",
            "[Epoch 5, Batch 600] Loss: 0.766\n",
            "[Epoch 6, Batch 200] Loss: 0.561\n",
            "[Epoch 6, Batch 400] Loss: 0.613\n",
            "[Epoch 6, Batch 600] Loss: 0.625\n",
            "[Epoch 7, Batch 200] Loss: 0.453\n",
            "[Epoch 7, Batch 400] Loss: 0.483\n",
            "[Epoch 7, Batch 600] Loss: 0.518\n",
            "[Epoch 8, Batch 200] Loss: 0.358\n",
            "[Epoch 8, Batch 400] Loss: 0.388\n",
            "[Epoch 8, Batch 600] Loss: 0.409\n",
            "[Epoch 9, Batch 200] Loss: 0.284\n",
            "[Epoch 9, Batch 400] Loss: 0.302\n",
            "[Epoch 9, Batch 600] Loss: 0.360\n",
            "[Epoch 10, Batch 200] Loss: 0.223\n",
            "[Epoch 10, Batch 400] Loss: 0.234\n",
            "[Epoch 10, Batch 600] Loss: 0.273\n",
            "Finished Training ResNet18 on CIFAR-10\n"
          ]
        }
      ],
      "source": [
        "# Training loop\n",
        "num_epochs = 10\n",
        "for epoch in range(num_epochs):\n",
        "    running_loss = 0.0\n",
        "    for i, data in enumerate(trainloader, 0):\n",
        "        inputs, labels = data[0].to(device), data[1].to(device)\n",
        "\n",
        "        optimizer.zero_grad()\n",
        "\n",
        "        outputs = resnet_model(inputs)\n",
        "        loss = criterion(outputs, labels)\n",
        "        loss.backward()\n",
        "        optimizer.step()\n",
        "\n",
        "        running_loss += loss.item()\n",
        "        if i % 200 == 199:    # Print every 200 mini-batches\n",
        "            print(f\"[Epoch {epoch + 1}, Batch {i + 1}] Loss: {running_loss / 200:.3f}\")\n",
        "            running_loss = 0.0\n",
        "\n",
        "print(\"Finished Training ResNet18 on CIFAR-10\")"
      ]
    },
    {
      "cell_type": "code",
      "source": [
        "testset = torchvision.datasets.CIFAR10(root='./data', train=False, download=True, transform=transform)\n",
        "testloader = torch.utils.data.DataLoader(testset, batch_size=64, shuffle=True, num_workers=2)"
      ],
      "metadata": {
        "id": "51U0z9-JsF6Q",
        "outputId": "ca244f7f-eac9-4f88-eb60-d7aead16bebc",
        "colab": {
          "base_uri": "https://localhost:8080/"
        }
      },
      "execution_count": 6,
      "outputs": [
        {
          "output_type": "stream",
          "name": "stdout",
          "text": [
            "Files already downloaded and verified\n"
          ]
        }
      ]
    },
    {
      "cell_type": "code",
      "source": [],
      "metadata": {
        "id": "LBocud_kwwbM"
      },
      "execution_count": null,
      "outputs": []
    },
    {
      "cell_type": "code",
      "source": [
        "correct = 0\n",
        "total = 0\n",
        "for i, data in enumerate(testloader, 0):\n",
        "        inputs, labels = data[0].to(device), data[1].to(device)\n",
        "        outputs = resnet_model(inputs)\n",
        "        if(i==0):\n",
        "          print(f\"Output dimensions: {outputs.size()}\\nLabel dimensions: {labels.size()}\")\n",
        "        outputs = torch.argmax(outputs, dim=1)\n",
        "        correct += torch.sum(torch.eq(outputs, labels))\n",
        "        total += 64\n",
        "print(f\"Test accuracy: {correct/total*100:.2f}%\")\n"
      ],
      "metadata": {
        "id": "3j2tfr1SsfKY",
        "outputId": "2a737a00-ef19-48e8-e589-d82b143a8204",
        "colab": {
          "base_uri": "https://localhost:8080/"
        }
      },
      "execution_count": 21,
      "outputs": [
        {
          "output_type": "stream",
          "name": "stdout",
          "text": [
            "Output dimensions: torch.Size([64, 1000])\n",
            "Label dimensions: torch.Size([64])\n",
            "63.26%\n"
          ]
        }
      ]
    }
  ],
  "metadata": {
    "kernelspec": {
      "display_name": "Python 3",
      "name": "python3"
    },
    "language_info": {
      "codemirror_mode": {
        "name": "ipython",
        "version": 3
      },
      "file_extension": ".py",
      "mimetype": "text/x-python",
      "name": "python",
      "nbconvert_exporter": "python",
      "pygments_lexer": "ipython3",
      "version": "3.11.2"
    },
    "orig_nbformat": 4,
    "colab": {
      "provenance": [],
      "gpuType": "T4"
    },
    "accelerator": "GPU"
  },
  "nbformat": 4,
  "nbformat_minor": 0
}